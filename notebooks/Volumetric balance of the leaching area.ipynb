{
 "cells": [
  {
   "cell_type": "markdown",
   "id": "5d4ff14c",
   "metadata": {},
   "source": [
    "#  Introduction"
   ]
  },
  {
   "cell_type": "markdown",
   "id": "4ebb0fea",
   "metadata": {},
   "source": [
    "This notebook presents the methodology for performing a volumetric balance in the leaching area of a mining operation. The leaching process involves monitoring and managing fluid flows between heaps and ponds in the extraction of iodine from caliche ore.\n",
    "\n",
    "The primary goal of this analysis is to use data collected from field sensors to calculate inflows, outflows, and accumulation rates in the system, in order to obtain the volumetric balance. \n",
    "\n",
    "By identifying missing or incomplete data, this notebook will be the input to perform data reconciliation and determine the sensors to be installed in the process.\n",
    "\n",
    "A flowsheet of the leaching process is shown in the portfolio pdf document."
   ]
  },
  {
   "cell_type": "markdown",
   "id": "2e29545a",
   "metadata": {},
   "source": [
    "# Libraries"
   ]
  },
  {
   "cell_type": "code",
   "execution_count": 1,
   "id": "d473fcbe",
   "metadata": {},
   "outputs": [],
   "source": [
    "import pandas as pd\n",
    "import datetime"
   ]
  },
  {
   "cell_type": "markdown",
   "id": "6d5fd693",
   "metadata": {},
   "source": [
    "# Data loading"
   ]
  },
  {
   "cell_type": "code",
   "execution_count": 2,
   "id": "6da35f17",
   "metadata": {},
   "outputs": [],
   "source": [
    "# In this section, we will load the raw datasets necessary for performing the volumetric balance calculations. \n",
    "\n",
    "# DB_LEACHING excel is a manually created information document:\n",
    "# The \"heaps\" sheet details which sector each pile belongs to.\n",
    "# The \"Nodes\" sheet details which sector the nodes belong to within the mine and whether there are piles and/or ponds.\n",
    "# The \"flows\" sheet indicates the description of the input and output flows of each node.\n",
    "\n",
    "df_heaps=pd.read_excel(\"DB_leaching.xlsx\",sheet_name='heaps',dtype=str)\n",
    "df_nodes=pd.read_excel(\"DB_leaching.xlsx\",sheet_name='nodes')\n",
    "df_flows=pd.read_excel(\"DB_leaching.xlsx\",sheet_name='flows')\n",
    "#--------------------------------------------------------------------------------------------------------------------\n",
    " \n",
    "# Query_db excel was obtained from a SQL query to the database that stores the information on the irrigation and drainage of \n",
    "# the different heaps, the consulted data base has daily information, the SQL query used is in the github repository.\n",
    "\n",
    "df_irrigation_drainage=pd.read_excel('query_db.xlsx')\n",
    "columns_irrigation_drainage=['heap','timestamp','Type','irrigation','type_irrigation','real_drainage','stage']\n",
    "\n",
    "# We only keep the columns that interest us, we transform the irrigation and drainage columns of heaps to leave everything \n",
    "# in cubic meters and we cross the information with df_heaps to add the sector information.\n",
    "\n",
    "df_irrigation_drainage=df_irrigation_drainage[columns_irrigation_drainage]\n",
    "df_irrigation_drainage['timestamp']=pd.to_datetime(df_irrigation_drainage.loc[:,'timestamp'], format='%Y-%m-%d')\n",
    "df_irrigation_drainage['irrigation']=(df_irrigation_drainage.loc[:,'irrigation'])/1000000\n",
    "df_irrigation_drainage['real_drainage']=(df_irrigation_drainage.loc[:,'real_drainage'])/1000000\n",
    "df_irrigation_drainage['heap']=df_irrigation_drainage.loc[:,'heap'].astype(str)\n",
    "df_irrigation_drainage=pd.merge(df_irrigation_drainage, df_heaps, on=['heap'], how='left') \n",
    "df_irrigation_drainage.dropna(inplace=True)\n",
    "#--------------------------------------------------------------------------------------------------------------------\n",
    "                                                                              \n",
    "# Data is downloaded from the database to obtain the flows of the different solutions: water, intermediate solution (SI),\n",
    "# acid weak water (AFA) and brine, for irrigation and drainage.\n",
    "                                                                              \n",
    "df_sol=pd.read_excel(\"solutions_flow.xlsx\",sheet_name=\"solutions\")\n",
    "df_sol.columns=df_sol.columns.astype('str')\n",
    "df_sol=df_sol.fillna(0)\n",
    "df_sol=df_sol[1:-1]\n",
    "df_sol.iloc[:,2:]=df_sol.iloc[:,2:]*24\n",
    "\n",
    "df_water=pd.read_excel(\"solutions_flow.xlsx\",sheet_name=\"water\")\n",
    "df_water.columns=df_water.columns.astype('str')\n",
    "df_water=df_water.fillna(0)\n",
    "df_water.columns=['Month', 'Day']+df_water.iloc[0,2:].tolist()\n",
    "df_water=df_water[2:-1]\n",
    "\n",
    "df_measurements=pd.read_excel(\"solutions_flow.xlsx\",sheet_name=\"measurements\")\n",
    "df_measurements=df_measurements.fillna(0)\n",
    "#--------------------------------------------------------------------------------------------------------------------\n",
    "                                                                              \n",
    "# df_evap is an excel that has the average monthly evaporation data in the sector for both water and solutions.\n",
    "\n",
    "df_evap=pd.read_excel('pond_evap.xlsx')                                                                             \n",
    "#--------------------------------------------------------------------------------------------------------------------\n",
    "                                                                              \n",
    "# Pond dimensions is an excel that has the area of the ponds of each sector and of each solution, this will be used to \n",
    "# calculate the losses due to evaporation.\n",
    "\n",
    "df_pond_dim=pd.read_excel('pond_dimensions.xlsx')"
   ]
  },
  {
   "cell_type": "markdown",
   "id": "1dbeabc5",
   "metadata": {},
   "source": [
    "# Data Cleaning and Processing"
   ]
  },
  {
   "cell_type": "code",
   "execution_count": 3,
   "id": "8fd02c7f",
   "metadata": {},
   "outputs": [],
   "source": [
    "# The time interval for performing the balance is chosen\n",
    "df_sol=df_sol[df_sol['Day']==14] \n",
    "df_water=df_water[df_water['Day']==14]\n",
    "df_evap=df_evap[df_evap['Month']=='March']\n",
    "df_irrigation_drainage=df_irrigation_drainage[df_irrigation_drainage['timestamp']=='2022-03-14']\n",
    "\n",
    "# A Dictionary of {Sector:[Heap]} is generated\n",
    "heap_dict={sector:df_irrigation_drainage[df_irrigation_drainage['Sector']==sector]['heap'].tolist() \n",
    "            for sector in df_irrigation_drainage['Sector'].unique()}"
   ]
  },
  {
   "cell_type": "markdown",
   "id": "a2ac897f",
   "metadata": {},
   "source": [
    "# Balances to define unmeasured flows"
   ]
  },
  {
   "cell_type": "code",
   "execution_count": 4,
   "id": "59c8f607",
   "metadata": {},
   "outputs": [
    {
     "data": {
      "text/html": [
       "<div>\n",
       "<style scoped>\n",
       "    .dataframe tbody tr th:only-of-type {\n",
       "        vertical-align: middle;\n",
       "    }\n",
       "\n",
       "    .dataframe tbody tr th {\n",
       "        vertical-align: top;\n",
       "    }\n",
       "\n",
       "    .dataframe thead th {\n",
       "        text-align: right;\n",
       "    }\n",
       "</style>\n",
       "<table border=\"1\" class=\"dataframe\">\n",
       "  <thead>\n",
       "    <tr style=\"text-align: right;\">\n",
       "      <th></th>\n",
       "      <th>Node</th>\n",
       "      <th>pond</th>\n",
       "      <th>Flow</th>\n",
       "      <th>Comment</th>\n",
       "    </tr>\n",
       "  </thead>\n",
       "  <tbody>\n",
       "    <tr>\n",
       "      <th>16</th>\n",
       "      <td>SC-7</td>\n",
       "      <td>brine</td>\n",
       "      <td>out</td>\n",
       "      <td>ok</td>\n",
       "    </tr>\n",
       "    <tr>\n",
       "      <th>17</th>\n",
       "      <td>SC-6</td>\n",
       "      <td>brine</td>\n",
       "      <td>in</td>\n",
       "      <td>ok</td>\n",
       "    </tr>\n",
       "    <tr>\n",
       "      <th>45</th>\n",
       "      <td>CO4</td>\n",
       "      <td>mixture</td>\n",
       "      <td>out</td>\n",
       "      <td>ok</td>\n",
       "    </tr>\n",
       "    <tr>\n",
       "      <th>63</th>\n",
       "      <td>CO2</td>\n",
       "      <td>si-plant</td>\n",
       "      <td>in</td>\n",
       "      <td>Parte de dren CO2A</td>\n",
       "    </tr>\n",
       "    <tr>\n",
       "      <th>65</th>\n",
       "      <td>CO2</td>\n",
       "      <td>water</td>\n",
       "      <td>in</td>\n",
       "      <td>ok</td>\n",
       "    </tr>\n",
       "    <tr>\n",
       "      <th>68</th>\n",
       "      <td>CO2</td>\n",
       "      <td>water</td>\n",
       "      <td>out</td>\n",
       "      <td>ok</td>\n",
       "    </tr>\n",
       "    <tr>\n",
       "      <th>72</th>\n",
       "      <td>CO2</td>\n",
       "      <td>afa</td>\n",
       "      <td>in</td>\n",
       "      <td>ok</td>\n",
       "    </tr>\n",
       "    <tr>\n",
       "      <th>74</th>\n",
       "      <td>Intermediate pond</td>\n",
       "      <td>si</td>\n",
       "      <td>in</td>\n",
       "      <td>Parte de dren CO2A</td>\n",
       "    </tr>\n",
       "    <tr>\n",
       "      <th>77</th>\n",
       "      <td>Intermediate pond</td>\n",
       "      <td>si</td>\n",
       "      <td>in</td>\n",
       "      <td>ok</td>\n",
       "    </tr>\n",
       "    <tr>\n",
       "      <th>78</th>\n",
       "      <td>Torcaza</td>\n",
       "      <td>water</td>\n",
       "      <td>in</td>\n",
       "      <td>Mediciones, usar \"water Llamara a CO6\" ojo es ...</td>\n",
       "    </tr>\n",
       "  </tbody>\n",
       "</table>\n",
       "</div>"
      ],
      "text/plain": [
       "                 Node      pond Flow  \\\n",
       "16               SC-7     brine  out   \n",
       "17               SC-6     brine   in   \n",
       "45                CO4   mixture  out   \n",
       "63                CO2  si-plant   in   \n",
       "65                CO2     water   in   \n",
       "68                CO2     water  out   \n",
       "72                CO2       afa   in   \n",
       "74  Intermediate pond        si   in   \n",
       "77  Intermediate pond        si   in   \n",
       "78            Torcaza     water   in   \n",
       "\n",
       "                                              Comment  \n",
       "16                                                 ok  \n",
       "17                                                 ok  \n",
       "45                                                 ok  \n",
       "63                                 Parte de dren CO2A  \n",
       "65                                                 ok  \n",
       "68                                                 ok  \n",
       "72                                                 ok  \n",
       "74                                 Parte de dren CO2A  \n",
       "77                                                 ok  \n",
       "78  Mediciones, usar \"water Llamara a CO6\" ojo es ...  "
      ]
     },
     "execution_count": 4,
     "metadata": {},
     "output_type": "execute_result"
    }
   ],
   "source": [
    "# Review of which flows do not exist in the \"SIPRO\" database, and must be obtained through balances\n",
    "df_flows[df_flows['SIPRO description']=='It does not exist'].loc[:,['Node','pond','Flow','Comment']]"
   ]
  },
  {
   "cell_type": "markdown",
   "id": "49472ee8",
   "metadata": {},
   "source": [
    "Now each sector will be reviewed"
   ]
  },
  {
   "cell_type": "markdown",
   "id": "aab89f32",
   "metadata": {},
   "source": [
    "## Sector: SC 7 - SC-6"
   ]
  },
  {
   "cell_type": "code",
   "execution_count": 5,
   "id": "a254625f",
   "metadata": {
    "scrolled": true
   },
   "outputs": [],
   "source": [
    "# The pond level will be considered constant\n",
    "# The result is added to the dataframe \"df_sol\"\n",
    "df_sol['Brine SC-7 a SC-6']=df_irrigation_drainage[(df_irrigation_drainage['stage']=='Head') & (df_irrigation_drainage['Sector']=='SC-2')]['real_drainage'].sum()-(\n",
    "    df_pond_dim[df_pond_dim['Sector']=='SC-7']['Area(m2)'].item())*(df_evap['Solution (Prec)'].item())/1000"
   ]
  },
  {
   "cell_type": "code",
   "execution_count": 6,
   "id": "8f59116b",
   "metadata": {},
   "outputs": [],
   "source": [
    "df_flows.loc[(df_flows['SIPRO description']=='It does not exist')& (\n",
    "    (df_flows['Node']=='SC-7')|(df_flows['Node']=='SC-6')),['SIPRO description'] ]='Brine SC-7 a SC-6'"
   ]
  },
  {
   "cell_type": "markdown",
   "id": "d64ad591",
   "metadata": {},
   "source": [
    "## Sector: CO4"
   ]
  },
  {
   "cell_type": "code",
   "execution_count": 7,
   "id": "ac9eddba",
   "metadata": {},
   "outputs": [],
   "source": [
    "# The pond level will be considered constant\n",
    "# The result is added to the dataframe \"df_sol\"\n",
    "\n",
    "df_sol['AFA CO4 a BC']=df_water['Mezcla CO4'].item()+df_sol['AFA a CO4'].item()-df_measurements[df_measurements['Measurement']=='AFA a CO6']['Total'].item()-(\n",
    "    df_pond_dim[(df_pond_dim['Sector']=='CO4') & (df_pond_dim['Pond']=='mixture')]['Area(m2)'].item())*(\n",
    "    df_evap['Solution (Prec)'].item())/1000"
   ]
  },
  {
   "cell_type": "code",
   "execution_count": 8,
   "id": "824e3a22",
   "metadata": {},
   "outputs": [],
   "source": [
    "df_flows.loc[(df_flows['SIPRO description']=='It does not exist')& (df_flows['Node']=='CO4'),\n",
    "              ['SIPRO description'] ]='AFA CO4 a BC'"
   ]
  },
  {
   "cell_type": "markdown",
   "id": "10e98c26",
   "metadata": {},
   "source": [
    "## Sector: CO2"
   ]
  },
  {
   "cell_type": "markdown",
   "id": "754be5a2",
   "metadata": {},
   "source": [
    "### si-plant"
   ]
  },
  {
   "cell_type": "code",
   "execution_count": 9,
   "id": "3b3222c1",
   "metadata": {},
   "outputs": [],
   "source": [
    "# The pond level will be considered constant\n",
    "# The result is added to the dataframe \"df_sol\"\n",
    "df_sol['SI intermedia a CO2']=df_sol['Brine a Iris'].item()+df_pond_dim[(df_pond_dim['Sector']=='CO2') & \n",
    "(df_pond_dim['Pond']=='si-plant')]['Area(m2)'].item()*(df_evap['Solution (Prec)'].item())/1000"
   ]
  },
  {
   "cell_type": "code",
   "execution_count": 10,
   "id": "f5198133",
   "metadata": {},
   "outputs": [],
   "source": [
    "df_flows.loc[(df_flows['SIPRO description']=='It does not exist')& (df_flows['Node']=='CO2')& (df_flows['pond']=='si-plant'),\n",
    "              ['SIPRO description'] ]='SI intermedia a CO2'"
   ]
  },
  {
   "cell_type": "markdown",
   "id": "720040c7",
   "metadata": {},
   "source": [
    "### Intermediate pond"
   ]
  },
  {
   "cell_type": "code",
   "execution_count": 11,
   "id": "e665ffd7",
   "metadata": {},
   "outputs": [],
   "source": [
    "# Intermediate solution (SI)\n",
    "# The result is added to the dataframe \"df_sol\"\n",
    "df_sol['SI a Poza intermedia drenaje']=(df_irrigation_drainage[(df_irrigation_drainage['Sector']=='CO2A') & \n",
    "                                                               (df_irrigation_drainage['stage']=='Tail') &\n",
    "(df_irrigation_drainage['heap']!='540')]['real_drainage'].sum()-df_sol['SI intermedia a CO2'].item())"
   ]
  },
  {
   "cell_type": "code",
   "execution_count": 12,
   "id": "fa67ce8a",
   "metadata": {},
   "outputs": [],
   "source": [
    "df_flows.loc[(df_flows['SIPRO description']=='It does not exist')& (df_flows['Node']=='Intermediate pond')& \n",
    "              (df_flows['Solution']=='si'),['SIPRO description'] ]='SI a Poza intermedia drenaje'"
   ]
  },
  {
   "cell_type": "code",
   "execution_count": 13,
   "id": "c4ade661",
   "metadata": {},
   "outputs": [],
   "source": [
    "# Water\n",
    "# The pond level will be considered constant\n",
    "# The result is added to the dataframe \"df_sol\"\n",
    "\n",
    "df_water['Agua a Poza intermedia']=df_sol['Intermedia a CO2A'].item()-df_sol['SI CO2 Intermedia'].item() + df_pond_dim[\n",
    "    (df_pond_dim['Sector']=='Intermediate pond') & (df_pond_dim['Pond']=='si')]['Area(m2)'].item()*(\n",
    "    df_evap['Solution (Prec)'].item())/1000 -df_sol['SI a Poza intermedia drenaje'].item()"
   ]
  },
  {
   "cell_type": "code",
   "execution_count": 14,
   "id": "c00b7604",
   "metadata": {},
   "outputs": [],
   "source": [
    "df_flows.loc[(df_flows['SIPRO description']=='It does not exist')& (df_flows['Node']=='Intermediate pond')& \n",
    "              (df_flows['Solution']=='water'),['SIPRO description'] ]='Agua a Poza intermedia'"
   ]
  },
  {
   "cell_type": "code",
   "execution_count": 15,
   "id": "8bc54ec1",
   "metadata": {},
   "outputs": [],
   "source": [
    "df_flows.loc[(df_flows['SIPRO description']=='It does not exist')& (df_flows['Node']=='CO2')& \n",
    "              (df_flows['Solution']=='water') & (df_flows['Flow']=='out') ,\n",
    "              ['SIPRO description']]='Agua a Poza intermedia'"
   ]
  },
  {
   "cell_type": "markdown",
   "id": "1de2324a",
   "metadata": {},
   "source": [
    "### Water pond"
   ]
  },
  {
   "cell_type": "code",
   "execution_count": 16,
   "id": "a7d50cf8",
   "metadata": {},
   "outputs": [],
   "source": [
    "# Water\n",
    "# The pond level will be considered constant\n",
    "# The result is added to the dataframe \"df_sol\"\n",
    "\n",
    "df_water['Agua a CO2']=df_water['SI CO2A'].item() + df_water['Mezcla CO2A'].item() + df_water['Agua a Poza intermedia'].item() + df_pond_dim[\n",
    "    (df_pond_dim['Sector']=='CO2') & (df_pond_dim['Pond']=='water')]['Area(m2)'].item()*(\n",
    "    df_evap['Water'].item())/1000 "
   ]
  },
  {
   "cell_type": "code",
   "execution_count": 17,
   "id": "317473f2",
   "metadata": {},
   "outputs": [],
   "source": [
    "df_flows.loc[(df_flows['SIPRO description']=='It does not exist')& (df_flows['Node']=='CO2')& \n",
    "              (df_flows['Solution']=='water'),['SIPRO description'] ]='Agua a CO2'"
   ]
  },
  {
   "cell_type": "markdown",
   "id": "b04ec009",
   "metadata": {},
   "source": [
    "### AFA pond"
   ]
  },
  {
   "cell_type": "code",
   "execution_count": 18,
   "id": "ca770c2c",
   "metadata": {},
   "outputs": [],
   "source": [
    "# Afa\n",
    "# The pond level will be considered constant\n",
    "# The result is added to the dataframe \"df_sol\"\n",
    "\n",
    "\n",
    "df_sol['AFA Iris a CO2']=df_sol['AFA CO2 a CO2A'].item() + df_pond_dim[\n",
    "    (df_pond_dim['Sector']=='CO2') & (df_pond_dim['Pond']=='afa')]['Area(m2)'].item()*(\n",
    "    df_evap['Solution (Prec)'].item())/1000 - df_measurements[df_measurements['Measurement']=='AFA CO1 a CO2']['Total'].item()"
   ]
  },
  {
   "cell_type": "code",
   "execution_count": 19,
   "id": "55c822d2",
   "metadata": {},
   "outputs": [],
   "source": [
    "df_flows.loc[(df_flows['SIPRO description']=='It does not exist')& (df_flows['Node']=='CO2')& \n",
    "              (df_flows['Solution']=='afa'),['SIPRO description'] ]='AFA Iris a CO2'\n",
    "\n"
   ]
  },
  {
   "cell_type": "code",
   "execution_count": 20,
   "id": "41c185f3",
   "metadata": {},
   "outputs": [],
   "source": [
    "# Some flows measurements are considered fixed in data reconciliation, because they are regulated by the authority\n",
    "\n",
    "df_flows.loc[(df_flows['SIPRO description']=='AFA Iris a CO2'),['Fixed value']]=1"
   ]
  },
  {
   "cell_type": "markdown",
   "id": "1611024f",
   "metadata": {},
   "source": [
    "## Sector: Torcaza"
   ]
  },
  {
   "cell_type": "code",
   "execution_count": 21,
   "id": "39ad6f54",
   "metadata": {},
   "outputs": [],
   "source": [
    "# Water pond\n",
    "# Water flow balance\n",
    "\n",
    "df_water['Agua a Torcaza']= df_measurements[df_measurements['Measurement']=='Agua Llamara a CO6']['Total'].item() - df_water['Agua MZ CO6'].item() "
   ]
  },
  {
   "cell_type": "code",
   "execution_count": 22,
   "id": "d7e79f34",
   "metadata": {},
   "outputs": [],
   "source": [
    "df_flows.loc[(df_flows['SIPRO description']=='It does not exist')& (df_flows['Node']=='Torcaza'),\n",
    "              ['SIPRO description'] ]='Agua a Torcaza'"
   ]
  },
  {
   "cell_type": "markdown",
   "id": "cdf8e6d6",
   "metadata": {},
   "source": [
    "## Final check"
   ]
  },
  {
   "cell_type": "code",
   "execution_count": 23,
   "id": "6d3c3cb9",
   "metadata": {},
   "outputs": [
    {
     "data": {
      "text/html": [
       "<div>\n",
       "<style scoped>\n",
       "    .dataframe tbody tr th:only-of-type {\n",
       "        vertical-align: middle;\n",
       "    }\n",
       "\n",
       "    .dataframe tbody tr th {\n",
       "        vertical-align: top;\n",
       "    }\n",
       "\n",
       "    .dataframe thead th {\n",
       "        text-align: right;\n",
       "    }\n",
       "</style>\n",
       "<table border=\"1\" class=\"dataframe\">\n",
       "  <thead>\n",
       "    <tr style=\"text-align: right;\">\n",
       "      <th></th>\n",
       "      <th>Node</th>\n",
       "      <th>pond</th>\n",
       "      <th>Flow</th>\n",
       "      <th>Comment</th>\n",
       "    </tr>\n",
       "  </thead>\n",
       "  <tbody>\n",
       "  </tbody>\n",
       "</table>\n",
       "</div>"
      ],
      "text/plain": [
       "Empty DataFrame\n",
       "Columns: [Node, pond, Flow, Comment]\n",
       "Index: []"
      ]
     },
     "execution_count": 23,
     "metadata": {},
     "output_type": "execute_result"
    }
   ],
   "source": [
    "df_flows[df_flows['SIPRO description']=='It does not exist'].loc[:,['Node','pond','Flow','Comment']]"
   ]
  },
  {
   "cell_type": "markdown",
   "id": "591b3e03",
   "metadata": {},
   "source": [
    "Now we have all the flows with information"
   ]
  },
  {
   "cell_type": "markdown",
   "id": "b6b3bfd3",
   "metadata": {},
   "source": [
    "# Functions"
   ]
  },
  {
   "cell_type": "markdown",
   "id": "d333ede7",
   "metadata": {},
   "source": [
    "Three functions are defined to perform the balance in each pond, the functions are to determine the inputs, outputs and evaporation losses."
   ]
  },
  {
   "cell_type": "code",
   "execution_count": 24,
   "id": "7bb4fc6a",
   "metadata": {},
   "outputs": [],
   "source": [
    "def pond_input(sectors):\n",
    "    \"\"\" Provide a dictionary with the sum of the M3 of input to each pond, according to the chosen sector\"\"\"\n",
    "    \n",
    "    global dict_in_pond_sectors\n",
    "    dict_in_pond_sectors={}\n",
    "    for sector in sectors:\n",
    "        global dict_in_pond\n",
    "        dict_in_pond={}\n",
    "    \n",
    "        # It goes through each pond in the sector\n",
    "        for pond in df_flows[df_flows['Node']==sector]['pond'].unique():\n",
    "    \n",
    "            # Descriptions of SIPRO database input flows are saved\n",
    "            descriptions=df_flows[(df_flows['Node']==sector) & (df_flows['pond']==pond) & \n",
    "                  (df_flows['Flow']=='in')]['SIPRO description']\n",
    "        \n",
    "            # The following situations are considered:\n",
    "                # SI: water, drainage and solutions\n",
    "                # Mixture: water and solutions\n",
    "                # Afa: Afa\n",
    "                # Water: water\n",
    "                # Brine: solutions and drainage\n",
    "    \n",
    "            if ((pond=='si') or (pond=='si-plant') or (pond=='si-irrigation')) :\n",
    "                si_in=0\n",
    "                for desc_sipro in descriptions:\n",
    "                    \n",
    "                    if desc_sipro in df_water.columns:\n",
    "                        si_in+=df_water[desc_sipro].item()\n",
    "\n",
    "                    elif desc_sipro in df_sol.columns:\n",
    "                            si_in+=(df_sol[desc_sipro]).item()\n",
    "\n",
    "                    elif desc_sipro in list(df_measurements['Measurement']):\n",
    "                        si_in+=df_measurements[df_measurements['Measurement']==desc_sipro]['Total'].item()\n",
    "\n",
    "                    elif desc_sipro=='drainage':\n",
    "                        # Special case of the 540 heap from Cancri\n",
    "                        if df_flows[(df_flows['Node']==sector) & (df_flows['pond']==pond) & \n",
    "                   (df_flows['Flow']=='in') & (df_flows['SIPRO description']=='drainage')]['heap drainage'].item()=='Pila 540':\n",
    "                            si_in=df_irrigation_drainage[df_irrigation_drainage['heap']=='540']['real_drainage'].sum()\n",
    "                        \n",
    "                        else:\n",
    "                            input_drainage=df_flows[(df_flows['Node']==sector) & (df_flows['pond']==pond) & \n",
    "                       (df_flows['Flow']=='in') & (df_flows['SIPRO description']=='drainage')]['heap drainage'].item()\n",
    "                            list_heap_drain=[heap for heap in heap_dict[input_drainage] if heap in df_irrigation_drainage\n",
    "                                      [df_irrigation_drainage['stage']=='Tail']['heap'].unique()]\n",
    "                            si_in+=df_irrigation_drainage[df_irrigation_drainage['heap'].isin(list_drain_pond)]['real_drainage'].sum()\n",
    "\n",
    "                dict_in_pond[pond]=si_in\n",
    "                \n",
    "                \n",
    "            if pond=='mixture':\n",
    "                mixture_in=0\n",
    "                for desc_sipro in descriptions:\n",
    "                    \n",
    "                    if desc_sipro in df_water.columns:\n",
    "                        mixture_in+=df_water[desc_sipro].item()\n",
    "\n",
    "                    elif desc_sipro in df_sol.columns:\n",
    "                        mixture_in+=(df_sol[desc_sipro]).item()\n",
    "                        \n",
    "                    elif desc_sipro in list(df_measurements['Measurement']):\n",
    "                        mixture_in+=df_measurements[df_measurements['Measurement']==desc_sipro]['Total'].item()\n",
    " \n",
    "                dict_in_pond[pond]=mixture_in\n",
    "        \n",
    "            if pond=='afa':\n",
    "                afa_in=0\n",
    "                for desc_sipro in descriptions:\n",
    "                \n",
    "                    if desc_sipro in df_sol.columns:\n",
    "                        afa_in+=(df_sol[desc_sipro]).item()\n",
    "                        \n",
    "                    elif desc_sipro in list(df_measurements['Measurement']):\n",
    "                        afa_in+=df_measurements[df_measurements['Measurement']==desc_sipro]['Total'].item()\n",
    "                    \n",
    "                dict_in_pond[pond]=afa_in            \n",
    "            \n",
    "            if pond=='water':\n",
    "                water_in=0\n",
    "                for desc_sipro in descriptions:\n",
    "                    \n",
    "                    if desc_sipro in df_water.columns:\n",
    "                        water_in+=df_water[desc_sipro].item()\n",
    "                        \n",
    "                    elif desc_sipro in list(df_measurements['Measurement']):\n",
    "                        water_in+=df_measurements[df_measurements['Measurement']==desc_sipro]['Total'].item()\n",
    "                dict_in_pond[pond]=water_in\n",
    "                \n",
    "            if ((pond=='brine') or (pond=='brine-torcaza') or (pond=='brine-cop 2')):\n",
    "                brine_in=0\n",
    "                for desc_sipro in descriptions:\n",
    "                    \n",
    "                    if desc_sipro in df_sol.columns:\n",
    "                        brine_in+=(df_sol[desc_sipro]).item()\n",
    "                \n",
    "                    elif desc_sipro in list(df_measurements['Measurement']):\n",
    "                        brine_in+=df_measurements[df_measurements['Measurement']==desc_sipro]['Total'].item()\n",
    "                \n",
    "                    elif desc_sipro=='drainage':\n",
    "                        drainage_in=df_flows[(df_flows['Node']==sector) & (df_flows['pond']==pond) & \n",
    "                   (df_flows['Flow']=='in') & (df_flows['SIPRO description']=='drainage')]['heap drainage'].item()\n",
    "                        list_drain_pond=[heap for heap in heap_dict[drainage_in] if heap in df_irrigation_drainage\n",
    "                                         [df_irrigation_drainage['stage']=='Head']['heap'].unique()]\n",
    "                        brine_in+=df_irrigation_drainage[df_irrigation_drainage['heap'].isin(list_drain_pond)]['real_drainage'].sum()\n",
    "                \n",
    "                dict_in_pond[pond]=brine_in\n",
    "                \n",
    "        dict_in_pond_sectors[sector]=dict_in_pond\n",
    "        \n",
    "    return dict_in_pond_sectors"
   ]
  },
  {
   "cell_type": "code",
   "execution_count": 25,
   "id": "436338fc",
   "metadata": {},
   "outputs": [],
   "source": [
    "def evap_pond(sectors):\n",
    "    \"\"\"Provides a dictionary with evaporation loss in cubic meters (M3) according to dimensions and evaporation rate for each pond\"\"\"\n",
    "    \n",
    "    global dict_evap_sector\n",
    "    dict_evap_sector={}\n",
    "    for sector in sectors:     \n",
    "        global dict_evap_pond\n",
    "        dict_evap_pond={}\n",
    "        \n",
    "        # It goes through each pond in the sector\n",
    "        for pond in df_flows[df_flows['Node']==sector]['pond'].unique():\n",
    "        \n",
    "            # The following situations are considered:\n",
    "                # Water: Water evaporation rate is used\n",
    "                # Other: Solution evaporation rate is used (Prod)\n",
    "    \n",
    "            if pond=='water': \n",
    "                dict_evap_pond[pond]=(((df_pond_dim[(df_pond_dim['Sector']==sector) & (df_pond_dim['Pond']==pond)]['Area(m2)']).item())\n",
    "                              *(df_evap['Water'].item())/1000)\n",
    "    \n",
    "            else:\n",
    "                dict_evap_pond[pond]=(((df_pond_dim[(df_pond_dim['Sector']==sector) & (df_pond_dim['Pond']==pond)]['Area(m2)']).item())\n",
    "                             *(df_evap['Solution (Prec)'].item())/1000)\n",
    "\n",
    "                \n",
    "        dict_evap_sector[sector]=dict_evap_pond\n",
    "    return dict_evap_sector"
   ]
  },
  {
   "cell_type": "code",
   "execution_count": 26,
   "id": "a8760294",
   "metadata": {},
   "outputs": [],
   "source": [
    "def pond_output(sectors):\n",
    "    \"\"\" Provides a dictionary with the sum of the cubic meters (M3) output from each pond, according to the chosen sector\"\"\"\n",
    "    \n",
    "    global dict_out_pond_sectors\n",
    "    dict_out_pond_sectors={}\n",
    "    for sector in sectors:\n",
    "        dict_out_pond={}\n",
    "        \n",
    "        # It goes through each pond in the sector\n",
    "        for pond in df_flows[df_flows['Node']==sector]['pond'].unique():\n",
    "    \n",
    "            # It is reviewed whether the output is a transfer of solutions\n",
    "            if'out' in df_flows[(df_flows['Node']==sector) & (df_flows['pond']==pond)]['Flow'].unique():\n",
    "            \n",
    "                # Descriptions of SIPRO output streams are saved\n",
    "                descriptions=df_flows[(df_flows['Node']==sector) & (df_flows['pond']==pond) & \n",
    "                               (df_flows['Flow']=='out')]['SIPRO description']\n",
    "                out_pond=0\n",
    "                \n",
    "                for desc_sipro in  descriptions:\n",
    "                    \n",
    "                    if desc_sipro in df_sol.columns:\n",
    "                        out_pond+=(df_sol[desc_sipro]).item()\n",
    "                \n",
    "                    if desc_sipro in df_water.columns:\n",
    "                        out_pond+=df_water[desc_sipro].item()\n",
    "                    \n",
    "                    if desc_sipro in list(df_measurements['Measurement']):\n",
    "                         out_pond+=df_measurements[df_measurements['Measurement']==desc_sipro]['Total'].item()\n",
    "                            \n",
    "                    if (desc_sipro=='irrigation') or (desc_sipro=='irrigation 540'):\n",
    "                        if ((pond=='si') or (pond=='si-plant') or (pond=='si-irrigation')):# Assuming impregnation is only SI\n",
    "                            out_pond=df_irrigation_drainage[(df_irrigation_drainage['Sector']==sector)\n",
    "                             &((df_irrigation_drainage['type_irrigation']=='Impregnation')|(df_irrigation_drainage['type_irrigation']=='SI'))]['irrigation'].sum()\n",
    "                            \n",
    "                        if pond=='mixture':\n",
    "                            out_pond=df_irrigation_drainage[(df_irrigation_drainage['Sector']==sector) &\n",
    "                                           (df_irrigation_drainage['type_irrigation']=='Mixture') ]['irrigation'].sum()\n",
    "                            \n",
    "                        if pond=='water': \n",
    "                            out_pond=df_irrigation_drainage[(df_irrigation_drainage['Sector']==sector)\n",
    "                            &((df_irrigation_drainage['type_irrigation']=='Water impregantion')|(df_irrigation_drainage['type_irrigation']=='Water'))]['irrigation'].sum()\n",
    "\n",
    "                dict_out_pond[pond]=out_pond\n",
    "   \n",
    "        dict_out_pond_sectors[sector]=dict_out_pond\n",
    "    return dict_out_pond_sectors"
   ]
  },
  {
   "cell_type": "markdown",
   "id": "9e20801b",
   "metadata": {},
   "source": [
    "# Results"
   ]
  },
  {
   "cell_type": "markdown",
   "id": "437c3afd",
   "metadata": {},
   "source": [
    "Now the function that integrates the 3 previous functions is defined, and gives the final result of the notebook"
   ]
  },
  {
   "cell_type": "code",
   "execution_count": 27,
   "id": "852d386d",
   "metadata": {},
   "outputs": [],
   "source": [
    "def balance(sectors):\n",
    "    \"\"\" This function saves the entry and loss dictionaries for each pond\"\"\"\n",
    "    pond_input(sectors)\n",
    "    evap_pond(sectors)\n",
    "    pond_output(sectors) "
   ]
  },
  {
   "cell_type": "code",
   "execution_count": 28,
   "id": "38bb4136",
   "metadata": {},
   "outputs": [
    {
     "data": {
      "text/html": [
       "<div>\n",
       "<style scoped>\n",
       "    .dataframe tbody tr th:only-of-type {\n",
       "        vertical-align: middle;\n",
       "    }\n",
       "\n",
       "    .dataframe tbody tr th {\n",
       "        vertical-align: top;\n",
       "    }\n",
       "\n",
       "    .dataframe thead th {\n",
       "        text-align: right;\n",
       "    }\n",
       "</style>\n",
       "<table border=\"1\" class=\"dataframe\">\n",
       "  <thead>\n",
       "    <tr style=\"text-align: right;\">\n",
       "      <th></th>\n",
       "      <th>SC-2</th>\n",
       "      <th>SC-7</th>\n",
       "      <th>SC-6</th>\n",
       "      <th>CO5</th>\n",
       "      <th>SC-3</th>\n",
       "      <th>Poza 30-31</th>\n",
       "      <th>CO4</th>\n",
       "      <th>COP-1</th>\n",
       "      <th>CO2</th>\n",
       "      <th>Poza intermedia</th>\n",
       "      <th>CO2A</th>\n",
       "      <th>Torcaza</th>\n",
       "    </tr>\n",
       "  </thead>\n",
       "  <tbody>\n",
       "    <tr>\n",
       "      <th>afa</th>\n",
       "      <td>0.0</td>\n",
       "      <td>0.000000e+00</td>\n",
       "      <td>0.00000</td>\n",
       "      <td>0.00000</td>\n",
       "      <td>0.0</td>\n",
       "      <td>0.0</td>\n",
       "      <td>0.000000e+00</td>\n",
       "      <td>-3012.18908</td>\n",
       "      <td>-9.279000e+03</td>\n",
       "      <td>0.0</td>\n",
       "      <td>0.000</td>\n",
       "      <td>0.00000</td>\n",
       "    </tr>\n",
       "    <tr>\n",
       "      <th>brine</th>\n",
       "      <td>0.0</td>\n",
       "      <td>-7.602807e-13</td>\n",
       "      <td>-12179.83406</td>\n",
       "      <td>-9833.52446</td>\n",
       "      <td>0.0</td>\n",
       "      <td>0.0</td>\n",
       "      <td>1.669020e+02</td>\n",
       "      <td>0.00000</td>\n",
       "      <td>8.756432e+02</td>\n",
       "      <td>0.0</td>\n",
       "      <td>0.000</td>\n",
       "      <td>-48.07095</td>\n",
       "    </tr>\n",
       "    <tr>\n",
       "      <th>brine-cop 2</th>\n",
       "      <td>0.0</td>\n",
       "      <td>0.000000e+00</td>\n",
       "      <td>0.00000</td>\n",
       "      <td>0.00000</td>\n",
       "      <td>0.0</td>\n",
       "      <td>0.0</td>\n",
       "      <td>0.000000e+00</td>\n",
       "      <td>-11603.75353</td>\n",
       "      <td>0.000000e+00</td>\n",
       "      <td>0.0</td>\n",
       "      <td>0.000</td>\n",
       "      <td>0.00000</td>\n",
       "    </tr>\n",
       "    <tr>\n",
       "      <th>brine-torcaza</th>\n",
       "      <td>0.0</td>\n",
       "      <td>0.000000e+00</td>\n",
       "      <td>0.00000</td>\n",
       "      <td>0.00000</td>\n",
       "      <td>0.0</td>\n",
       "      <td>0.0</td>\n",
       "      <td>0.000000e+00</td>\n",
       "      <td>10558.52662</td>\n",
       "      <td>0.000000e+00</td>\n",
       "      <td>0.0</td>\n",
       "      <td>0.000</td>\n",
       "      <td>0.00000</td>\n",
       "    </tr>\n",
       "    <tr>\n",
       "      <th>mixture</th>\n",
       "      <td>0.0</td>\n",
       "      <td>0.000000e+00</td>\n",
       "      <td>0.00000</td>\n",
       "      <td>0.00000</td>\n",
       "      <td>0.0</td>\n",
       "      <td>0.0</td>\n",
       "      <td>-9.996312e+07</td>\n",
       "      <td>0.00000</td>\n",
       "      <td>0.000000e+00</td>\n",
       "      <td>0.0</td>\n",
       "      <td>-8457.758</td>\n",
       "      <td>0.00000</td>\n",
       "    </tr>\n",
       "    <tr>\n",
       "      <th>si</th>\n",
       "      <td>0.0</td>\n",
       "      <td>0.000000e+00</td>\n",
       "      <td>0.00000</td>\n",
       "      <td>-17624.77867</td>\n",
       "      <td>0.0</td>\n",
       "      <td>0.0</td>\n",
       "      <td>8.209902e+03</td>\n",
       "      <td>375.17743</td>\n",
       "      <td>0.000000e+00</td>\n",
       "      <td>0.0</td>\n",
       "      <td>-2181.758</td>\n",
       "      <td>0.00000</td>\n",
       "    </tr>\n",
       "    <tr>\n",
       "      <th>si-irrigation</th>\n",
       "      <td>0.0</td>\n",
       "      <td>0.000000e+00</td>\n",
       "      <td>0.00000</td>\n",
       "      <td>0.00000</td>\n",
       "      <td>0.0</td>\n",
       "      <td>0.0</td>\n",
       "      <td>0.000000e+00</td>\n",
       "      <td>0.00000</td>\n",
       "      <td>-3.957663e+02</td>\n",
       "      <td>0.0</td>\n",
       "      <td>0.000</td>\n",
       "      <td>0.00000</td>\n",
       "    </tr>\n",
       "    <tr>\n",
       "      <th>si-plant</th>\n",
       "      <td>0.0</td>\n",
       "      <td>0.000000e+00</td>\n",
       "      <td>0.00000</td>\n",
       "      <td>0.00000</td>\n",
       "      <td>0.0</td>\n",
       "      <td>0.0</td>\n",
       "      <td>0.000000e+00</td>\n",
       "      <td>0.00000</td>\n",
       "      <td>-4.298784e-13</td>\n",
       "      <td>0.0</td>\n",
       "      <td>0.000</td>\n",
       "      <td>0.00000</td>\n",
       "    </tr>\n",
       "    <tr>\n",
       "      <th>water</th>\n",
       "      <td>0.0</td>\n",
       "      <td>0.000000e+00</td>\n",
       "      <td>0.00000</td>\n",
       "      <td>0.00000</td>\n",
       "      <td>0.0</td>\n",
       "      <td>0.0</td>\n",
       "      <td>0.000000e+00</td>\n",
       "      <td>0.00000</td>\n",
       "      <td>9.260000e+03</td>\n",
       "      <td>0.0</td>\n",
       "      <td>0.000</td>\n",
       "      <td>0.00000</td>\n",
       "    </tr>\n",
       "  </tbody>\n",
       "</table>\n",
       "</div>"
      ],
      "text/plain": [
       "               SC-2          SC-7         SC-6          CO5  SC-3  Poza 30-31  \\\n",
       "afa             0.0  0.000000e+00      0.00000      0.00000   0.0         0.0   \n",
       "brine           0.0 -7.602807e-13 -12179.83406  -9833.52446   0.0         0.0   \n",
       "brine-cop 2     0.0  0.000000e+00      0.00000      0.00000   0.0         0.0   \n",
       "brine-torcaza   0.0  0.000000e+00      0.00000      0.00000   0.0         0.0   \n",
       "mixture         0.0  0.000000e+00      0.00000      0.00000   0.0         0.0   \n",
       "si              0.0  0.000000e+00      0.00000 -17624.77867   0.0         0.0   \n",
       "si-irrigation   0.0  0.000000e+00      0.00000      0.00000   0.0         0.0   \n",
       "si-plant        0.0  0.000000e+00      0.00000      0.00000   0.0         0.0   \n",
       "water           0.0  0.000000e+00      0.00000      0.00000   0.0         0.0   \n",
       "\n",
       "                        CO4        COP-1           CO2  Poza intermedia  \\\n",
       "afa            0.000000e+00  -3012.18908 -9.279000e+03              0.0   \n",
       "brine          1.669020e+02      0.00000  8.756432e+02              0.0   \n",
       "brine-cop 2    0.000000e+00 -11603.75353  0.000000e+00              0.0   \n",
       "brine-torcaza  0.000000e+00  10558.52662  0.000000e+00              0.0   \n",
       "mixture       -9.996312e+07      0.00000  0.000000e+00              0.0   \n",
       "si             8.209902e+03    375.17743  0.000000e+00              0.0   \n",
       "si-irrigation  0.000000e+00      0.00000 -3.957663e+02              0.0   \n",
       "si-plant       0.000000e+00      0.00000 -4.298784e-13              0.0   \n",
       "water          0.000000e+00      0.00000  9.260000e+03              0.0   \n",
       "\n",
       "                   CO2A   Torcaza  \n",
       "afa               0.000   0.00000  \n",
       "brine             0.000 -48.07095  \n",
       "brine-cop 2       0.000   0.00000  \n",
       "brine-torcaza     0.000   0.00000  \n",
       "mixture       -8457.758   0.00000  \n",
       "si            -2181.758   0.00000  \n",
       "si-irrigation     0.000   0.00000  \n",
       "si-plant          0.000   0.00000  \n",
       "water             0.000   0.00000  "
      ]
     },
     "execution_count": 28,
     "metadata": {},
     "output_type": "execute_result"
    }
   ],
   "source": [
    "# The \"balance\" function is applied and the balance is performed for each sector in steady state.\n",
    "balance(df_nodes['Nodes'].unique())\n",
    "steady_state_balance=(pd.DataFrame(dict_in_pond_sectors)-pd.DataFrame(dict_out_pond_sectors)-pd.DataFrame(dict_evap_sector)).fillna(0)\n",
    "steady_state_balance"
   ]
  },
  {
   "cell_type": "markdown",
   "id": "1dbfb1df",
   "metadata": {},
   "source": [
    "This result of the steady-state balance is the input for the data reconciliation carried out by the data science team. Once the reconciliation is finished, work is done on developing the final product, which is the visualization of the system in Power BI. This result is found in the GitHub repository."
   ]
  }
 ],
 "metadata": {
  "kernelspec": {
   "display_name": "Python 3 (ipykernel)",
   "language": "python",
   "name": "python3"
  },
  "language_info": {
   "codemirror_mode": {
    "name": "ipython",
    "version": 3
   },
   "file_extension": ".py",
   "mimetype": "text/x-python",
   "name": "python",
   "nbconvert_exporter": "python",
   "pygments_lexer": "ipython3",
   "version": "3.9.12"
  },
  "toc": {
   "base_numbering": 1,
   "nav_menu": {},
   "number_sections": true,
   "sideBar": true,
   "skip_h1_title": false,
   "title_cell": "Table of Contents",
   "title_sidebar": "Contents",
   "toc_cell": false,
   "toc_position": {
    "height": "calc(100% - 180px)",
    "left": "10px",
    "top": "150px",
    "width": "198.297px"
   },
   "toc_section_display": true,
   "toc_window_display": true
  }
 },
 "nbformat": 4,
 "nbformat_minor": 5
}
